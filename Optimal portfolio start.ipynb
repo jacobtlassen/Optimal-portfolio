{
 "cells": [
  {
   "cell_type": "code",
   "execution_count": 1,
   "metadata": {},
   "outputs": [],
   "source": [
    "%matplotlib inline\n",
    "import numpy as np\n",
    "import matplotlib.pyplot as plt\n",
    "from scipy import optimize\n",
    "from yahoofinancials import YahooFinancials as yf"
   ]
  },
  {
   "cell_type": "code",
   "execution_count": 2,
   "metadata": {},
   "outputs": [],
   "source": [
    "tickers = ['GOLD', '^TNX', '^IRX', '^GSPC']\n",
    "bonds = ['^TNX', '^IRX']\n",
    "expl = {'GOLD': 'Gold', '^TNX': '10YR bond', '^IRX': 'Cash', '^GSPC': 'S&P 500',\n",
    "       '^FTSE': 'UK 100', '^RUT': 'Small-Cap index', '^DJI': 'Dow Jones'}\n",
    "YF = yf(tickers)"
   ]
  },
  {
   "cell_type": "code",
   "execution_count": 3,
   "metadata": {},
   "outputs": [],
   "source": [
    "start = '1900-01-01'\n",
    "end = '2100-01-01'\n",
    "data = YF.get_historical_price_data(start, end, 'daily')\n",
    "data = {key:value['prices'] for key, value in data.items()}"
   ]
  },
  {
   "cell_type": "code",
   "execution_count": 4,
   "metadata": {},
   "outputs": [
    {
     "name": "stdout",
     "output_type": "stream",
     "text": [
      "GOLD 1985.095425507643\n"
     ]
    }
   ],
   "source": [
    "alltime_prices = {ticker: np.array([price['close'] for price in prices]) for ticker, prices in data.items()}\n",
    "dates = {ticker: np.array([price['date'] for price in prices]) for ticker, prices in data.items()}\n",
    "formatted_dates = {ticker: np.array([price['formatted_date'] for price in prices]) for ticker, prices in data.items()}\n",
    "first_date = np.max([date[0] for date in dates.values()])\n",
    "first_ticker = tickers[np.argmax([date[0] for date in dates.values()])]\n",
    "print(first_ticker, first_date/(60*60*24*365.25)+1970)"
   ]
  },
  {
   "cell_type": "code",
   "execution_count": 5,
   "metadata": {},
   "outputs": [],
   "source": [
    "idxs = {ticker: np.array([np.abs(date - d).argmin() for d in dates[first_ticker]]) for ticker, date in dates.items()}"
   ]
  },
  {
   "cell_type": "code",
   "execution_count": 6,
   "metadata": {},
   "outputs": [],
   "source": [
    "prices = {}\n",
    "for ticker in tickers:\n",
    "    p = alltime_prices[ticker][idxs[ticker]]\n",
    "    noneidx = np.where(p == None)[0]\n",
    "    for idx in noneidx:\n",
    "        p[idx] = p[idx-1]\n",
    "    prices[ticker] = p.astype(np.float64)"
   ]
  },
  {
   "cell_type": "code",
   "execution_count": 7,
   "metadata": {},
   "outputs": [],
   "source": [
    "# returns per year\n",
    "rpy = {ticker: (price[252:] / price[:-252]) for ticker, price in prices.items()} \n",
    "for ticker in bonds:\n",
    "    rpy[ticker] = prices[ticker][:-252]/100 + 1"
   ]
  },
  {
   "cell_type": "code",
   "execution_count": 8,
   "metadata": {},
   "outputs": [],
   "source": [
    "rets = np.array([ret.tolist() for ret in rpy.values()])"
   ]
  },
  {
   "cell_type": "code",
   "execution_count": 9,
   "metadata": {},
   "outputs": [
    {
     "name": "stdout",
     "output_type": "stream",
     "text": [
      "[1.18792944 1.05180172 1.03304972 1.09715767]\n",
      "[0.55363454 0.02338188 0.02553687 0.15872548]\n"
     ]
    }
   ],
   "source": [
    "means = rets.mean(axis=1)\n",
    "stds = rets.std(axis=1)\n",
    "sigma = np.cov(rets)\n",
    "\n",
    "print(means)\n",
    "print(stds)"
   ]
  },
  {
   "cell_type": "code",
   "execution_count": 10,
   "metadata": {},
   "outputs": [
    {
     "name": "stdout",
     "output_type": "stream",
     "text": [
      "[0.25 0.25 0.25 0.25]\n"
     ]
    }
   ],
   "source": [
    "def cost(m):\n",
    "    def f(x):\n",
    "        return -m@x\n",
    "    return f\n",
    "\n",
    "def newstd(s):\n",
    "    def f(x):\n",
    "        return np.sqrt(x@sigma@x)\n",
    "    return f\n",
    "x = np.ones(len(means))/len(means)\n",
    "print(x)"
   ]
  },
  {
   "cell_type": "code",
   "execution_count": 11,
   "metadata": {},
   "outputs": [
    {
     "name": "stdout",
     "output_type": "stream",
     "text": [
      "Optimal portfolio with a maximum standard deviation: 2.5 %\n",
      "Return of 5.46 % per year\n",
      "\n",
      "Gold: -0.00 %\n",
      "10YR bond: 93.84 %\n",
      "Cash: -0.00 %\n",
      "S&P 500: 6.16 %\n",
      "\n",
      "\n",
      "Optimal portfolio with a maximum standard deviation: 5.0 %\n",
      "Return of 6.65 % per year\n",
      "\n",
      "Gold: 3.55 %\n",
      "10YR bond: 74.72 %\n",
      "Cash: 0.00 %\n",
      "S&P 500: 21.73 %\n",
      "\n",
      "\n",
      "Optimal portfolio with a maximum standard deviation: 7.5 %\n",
      "Return of 7.61 % per year\n",
      "\n",
      "Gold: 6.51 %\n",
      "10YR bond: 59.46 %\n",
      "Cash: -0.00 %\n",
      "S&P 500: 34.03 %\n",
      "\n",
      "\n",
      "Optimal portfolio with a maximum standard deviation: 10.0 %\n",
      "Return of 8.54 % per year\n",
      "\n",
      "Gold: 9.40 %\n",
      "10YR bond: 44.81 %\n",
      "Cash: 0.00 %\n",
      "S&P 500: 45.79 %\n",
      "\n",
      "\n",
      "Optimal portfolio with a maximum standard deviation: 12.5 %\n",
      "Return of 9.45 % per year\n",
      "\n",
      "Gold: 12.18 %\n",
      "10YR bond: 30.23 %\n",
      "Cash: 0.00 %\n",
      "S&P 500: 57.59 %\n",
      "\n",
      "\n",
      "Optimal portfolio with a maximum standard deviation: 15.0 %\n",
      "Return of 10.36 % per year\n",
      "\n",
      "Gold: 14.98 %\n",
      "10YR bond: 15.83 %\n",
      "Cash: -0.00 %\n",
      "S&P 500: 69.19 %\n",
      "\n",
      "\n"
     ]
    }
   ],
   "source": [
    "maxstds = [0.025, 0.05, 0.075, 0.10, 0.125, 0.15]\n",
    "opt_means = []\n",
    "for maxstd in maxstds:\n",
    "\n",
    "    # Lineear equality constraints\n",
    "    A = np.eye(len(means))\n",
    "    lb = np.zeros(len(means))\n",
    "    ub = np.ones(len(means))*np.inf\n",
    "    LEC = optimize.LinearConstraint(A, lb, ub)\n",
    "    \n",
    "    # Linear inequality constraints\n",
    "    LIC = optimize.LinearConstraint(np.ones(len(means)), 1.0, 1.0)\n",
    "    \n",
    "    # Nonlinear constraints\n",
    "    NLC = optimize.NonlinearConstraint(newstd(sigma), maxstd, maxstd)\n",
    "\n",
    "    res = optimize.minimize(cost(means), x, constraints=[LEC, LIC, NLC])\n",
    "\n",
    "    opt_means.append(-res['fun'])\n",
    "    \n",
    "    print('Optimal portfolio with a maximum standard deviation: {} %'.format(maxstd*100))\n",
    "    print('Return of {:.2f} % per year'.format(-res['fun']/res['x'].sum()*100-100))\n",
    "    print()\n",
    "    for i, ticker in enumerate(tickers):\n",
    "        print('{}: {:.2f} %'.format(expl[ticker], res['x'][i]*100))\n",
    "    print()\n",
    "    print()"
   ]
  },
  {
   "cell_type": "code",
   "execution_count": 12,
   "metadata": {},
   "outputs": [
    {
     "data": {
      "text/plain": [
       "array([[1.        , 0.35424079, 0.31209935, 0.17758021],\n",
       "       [0.35424079, 1.        , 0.90851091, 0.11148815],\n",
       "       [0.31209935, 0.90851091, 1.        , 0.07032677],\n",
       "       [0.17758021, 0.11148815, 0.07032677, 1.        ]])"
      ]
     },
     "execution_count": 12,
     "metadata": {},
     "output_type": "execute_result"
    }
   ],
   "source": [
    "np.corrcoef(rets)"
   ]
  },
  {
   "cell_type": "code",
   "execution_count": 27,
   "metadata": {},
   "outputs": [
    {
     "data": {
      "text/plain": [
       "(array([0.00069946, 0.0010492 , 0.00186524, 0.00373047, 0.00594544,\n",
       "        0.00454651, 0.00186524, 0.00338074, 0.00279785, 0.00419678,\n",
       "        0.00804383, 0.0153882 , 0.01305666, 0.01235719, 0.01340639,\n",
       "        0.01573793, 0.01597109, 0.02296573, 0.01632082, 0.0179529 ,\n",
       "        0.03170902, 0.04301702, 0.05141059, 0.06773141, 0.07344369,\n",
       "        0.08230357, 0.07997202, 0.06050361, 0.05863838, 0.05514106,\n",
       "        0.05059454, 0.03975286, 0.03777104, 0.02518069, 0.02203311,\n",
       "        0.0128235 , 0.00839356, 0.00699464, 0.00279785, 0.00314759,\n",
       "        0.00174866, 0.00174866, 0.00069946, 0.00023315, 0.        ,\n",
       "        0.00011658, 0.00046631, 0.        , 0.        , 0.00034973]),\n",
       " array([0.51177177, 0.53525103, 0.55873028, 0.58220953, 0.60568878,\n",
       "        0.62916804, 0.65264729, 0.67612654, 0.69960579, 0.72308505,\n",
       "        0.7465643 , 0.77004355, 0.79352281, 0.81700206, 0.84048131,\n",
       "        0.86396056, 0.88743982, 0.91091907, 0.93439832, 0.95787758,\n",
       "        0.98135683, 1.00483608, 1.02831533, 1.05179459, 1.07527384,\n",
       "        1.09875309, 1.12223234, 1.1457116 , 1.16919085, 1.1926701 ,\n",
       "        1.21614936, 1.23962861, 1.26310786, 1.28658711, 1.31006637,\n",
       "        1.33354562, 1.35702487, 1.38050413, 1.40398338, 1.42746263,\n",
       "        1.45094188, 1.47442114, 1.49790039, 1.52137964, 1.5448589 ,\n",
       "        1.56833815, 1.5918174 , 1.61529665, 1.63877591, 1.66225516,\n",
       "        1.68573441]),\n",
       " <a list of 50 Patch objects>)"
      ]
     },
     "execution_count": 27,
     "metadata": {},
     "output_type": "execute_result"
    },
    {
     "data": {
      "image/png": "[encoded data removed]",
      "text/plain": [
       "<Figure size 432x288 with 1 Axes>"
      ]
     },
     "metadata": {
      "needs_background": "light"
     },
     "output_type": "display_data"
    }
   ],
   "source": [
    "weights = np.ones_like(rets[-1,:])/float(len(rets[-1,:]))\n",
    "plt.hist(rets[-1,:], bins=50, weights=weights)"
   ]
  },
  {
   "cell_type": "code",
   "execution_count": 18,
   "metadata": {},
   "outputs": [],
   "source": [
    "rpd = {ticker: (price[1:] / price[:-1]) for ticker, price in prices.items()} \n",
    "retd = np.array([ret.tolist() for ret in rpd.values()])"
   ]
  },
  {
   "cell_type": "code",
   "execution_count": 36,
   "metadata": {},
   "outputs": [
    {
     "data": {
      "text/plain": [
       "(array([1.13263110e-04, 0.00000000e+00, 0.00000000e+00, 0.00000000e+00,\n",
       "        0.00000000e+00, 0.00000000e+00, 0.00000000e+00, 0.00000000e+00,\n",
       "        0.00000000e+00, 0.00000000e+00, 0.00000000e+00, 0.00000000e+00,\n",
       "        0.00000000e+00, 0.00000000e+00, 0.00000000e+00, 0.00000000e+00,\n",
       "        0.00000000e+00, 0.00000000e+00, 0.00000000e+00, 0.00000000e+00,\n",
       "        0.00000000e+00, 0.00000000e+00, 0.00000000e+00, 0.00000000e+00,\n",
       "        0.00000000e+00, 0.00000000e+00, 0.00000000e+00, 0.00000000e+00,\n",
       "        0.00000000e+00, 0.00000000e+00, 0.00000000e+00, 0.00000000e+00,\n",
       "        0.00000000e+00, 0.00000000e+00, 0.00000000e+00, 1.13263110e-04,\n",
       "        2.26526220e-04, 0.00000000e+00, 1.13263110e-04, 0.00000000e+00,\n",
       "        1.13263110e-04, 0.00000000e+00, 4.53052441e-04, 1.13263110e-04,\n",
       "        3.39789331e-04, 2.26526220e-04, 0.00000000e+00, 4.53052441e-04,\n",
       "        5.66315551e-04, 5.66315551e-04, 9.06104882e-04, 1.13263110e-03,\n",
       "        7.92841771e-04, 2.26526220e-03, 4.19073508e-03, 4.75705063e-03,\n",
       "        9.40083815e-03, 1.10997848e-02, 2.01608336e-02, 2.86555669e-02,\n",
       "        4.14542983e-02, 7.10159701e-02, 1.11450900e-01, 1.78842451e-01,\n",
       "        1.76916978e-01, 1.26628157e-01, 7.96239665e-02, 4.94959792e-02,\n",
       "        3.02412504e-02, 1.67629403e-02, 1.00804168e-02, 7.24883905e-03,\n",
       "        3.62441953e-03, 1.58568354e-03, 2.26526220e-03, 1.13263110e-03,\n",
       "        1.47242043e-03, 7.92841771e-04, 5.66315551e-04, 6.79578661e-04,\n",
       "        3.39789331e-04, 1.13263110e-04, 0.00000000e+00, 2.26526220e-04,\n",
       "        1.13263110e-04, 2.26526220e-04, 0.00000000e+00, 0.00000000e+00,\n",
       "        0.00000000e+00, 0.00000000e+00, 0.00000000e+00, 0.00000000e+00,\n",
       "        1.13263110e-04, 0.00000000e+00, 0.00000000e+00, 0.00000000e+00,\n",
       "        0.00000000e+00, 1.13263110e-04, 0.00000000e+00, 1.13263110e-04]),\n",
       " array([0.79533069, 0.79853539, 0.80174009, 0.80494478, 0.80814948,\n",
       "        0.81135418, 0.81455887, 0.81776357, 0.82096827, 0.82417296,\n",
       "        0.82737766, 0.83058236, 0.83378705, 0.83699175, 0.84019645,\n",
       "        0.84340114, 0.84660584, 0.84981054, 0.85301523, 0.85621993,\n",
       "        0.85942463, 0.86262932, 0.86583402, 0.86903872, 0.87224341,\n",
       "        0.87544811, 0.87865281, 0.8818575 , 0.8850622 , 0.8882669 ,\n",
       "        0.8914716 , 0.89467629, 0.89788099, 0.90108569, 0.90429038,\n",
       "        0.90749508, 0.91069978, 0.91390447, 0.91710917, 0.92031387,\n",
       "        0.92351856, 0.92672326, 0.92992796, 0.93313265, 0.93633735,\n",
       "        0.93954205, 0.94274674, 0.94595144, 0.94915614, 0.95236083,\n",
       "        0.95556553, 0.95877023, 0.96197492, 0.96517962, 0.96838432,\n",
       "        0.97158901, 0.97479371, 0.97799841, 0.9812031 , 0.9844078 ,\n",
       "        0.9876125 , 0.9908172 , 0.99402189, 0.99722659, 1.00043129,\n",
       "        1.00363598, 1.00684068, 1.01004538, 1.01325007, 1.01645477,\n",
       "        1.01965947, 1.02286416, 1.02606886, 1.02927356, 1.03247825,\n",
       "        1.03568295, 1.03888765, 1.04209234, 1.04529704, 1.04850174,\n",
       "        1.05170643, 1.05491113, 1.05811583, 1.06132052, 1.06452522,\n",
       "        1.06772992, 1.07093461, 1.07413931, 1.07734401, 1.0805487 ,\n",
       "        1.0837534 , 1.0869581 , 1.0901628 , 1.09336749, 1.09657219,\n",
       "        1.09977689, 1.10298158, 1.10618628, 1.10939098, 1.11259567,\n",
       "        1.11580037]),\n",
       " <a list of 100 Patch objects>)"
      ]
     },
     "execution_count": 36,
     "metadata": {},
     "output_type": "execute_result"
    },
    {
     "data": {
      "image/png": "[encoded data removed]",
      "text/plain": [
       "<Figure size 432x288 with 1 Axes>"
      ]
     },
     "metadata": {
      "needs_background": "light"
     },
     "output_type": "display_data"
    }
   ],
   "source": [
    "weights = np.ones_like(retd[-1,:])/float(len(retd[-1,:]))\n",
    "plt.hist(retd[-1,:], bins=100, weights=weights)"
   ]
  },
  {
   "cell_type": "code",
   "execution_count": 165,
   "metadata": {},
   "outputs": [],
   "source": [
    "def npdf(u, s, N=1000):\n",
    "    x = ((np.arange(N+1) / N)-0.5)*s*20 + u\n",
    "    pdf = 1/(s*np.sqrt(2*np.pi))*np.exp(-0.5*((x-u)/s)**2)\n",
    "    return x, pdf\n",
    "\n",
    "from scipy.stats import levy_stable"
   ]
  },
  {
   "cell_type": "code",
   "execution_count": 290,
   "metadata": {},
   "outputs": [
    {
     "data": {
      "text/plain": [
       "[<matplotlib.lines.Line2D at 0x1df4a711d60>]"
      ]
     },
     "execution_count": 290,
     "metadata": {},
     "output_type": "execute_result"
    },
    {
     "data": {
      "image/png": "[encoded data removed]",
      "text/plain": [
       "<Figure size 1080x720 with 1 Axes>"
      ]
     },
     "metadata": {
      "needs_background": "light"
     },
     "output_type": "display_data"
    }
   ],
   "source": [
    "plt.figure(figsize=(15,10))\n",
    "test = retd[-1, retd[-1,:].argsort()[1:]]\n",
    "weights = np.ones_like(test)/float(len(test))\n",
    "plt.hist(test, bins=150, density=True)\n",
    "u, s = test.mean(), test.std()\n",
    "x, pdf = npdf(u, s*0.9)\n",
    "plt.plot(x, pdf)\n",
    "# alpha = 1.15\n",
    "# beta = 0.0\n",
    "# c = 0.0055\n",
    "lev = levy_stable.pdf(x, alpha, beta, loc=u, scale=c)\n",
    "plt.plot(x, lev)"
   ]
  },
  {
   "cell_type": "code",
   "execution_count": 16,
   "metadata": {},
   "outputs": [
    {
     "data": {
      "text/plain": [
       "[<matplotlib.lines.Line2D at 0x1df1ab8a2b0>]"
      ]
     },
     "execution_count": 16,
     "metadata": {},
     "output_type": "execute_result"
    },
    {
     "data": {
      "image/png": "[encoded data removed]",
      "text/plain": [
       "<Figure size 432x288 with 1 Axes>"
      ]
     },
     "metadata": {
      "needs_background": "light"
     },
     "output_type": "display_data"
    }
   ],
   "source": [
    "SP500 = prices['^GSPC']\n",
    "plt.plot(SP500)"
   ]
  },
  {
   "cell_type": "code",
   "execution_count": 17,
   "metadata": {},
   "outputs": [
    {
     "data": {
      "text/plain": [
       "1.0003943042997607"
      ]
     },
     "execution_count": 17,
     "metadata": {},
     "output_type": "execute_result"
    }
   ],
   "source": [
    "(SP500[1:]/SP500[:-1]).mean()"
   ]
  }
 ],
 "metadata": {
  "kernelspec": {
   "display_name": "Python 3",
   "language": "python",
   "name": "python3"
  },
  "language_info": {
   "codemirror_mode": {
    "name": "ipython",
    "version": 3
   },
   "file_extension": ".py",
   "mimetype": "text/x-python",
   "name": "python",
   "nbconvert_exporter": "python",
   "pygments_lexer": "ipython3",
   "version": "3.8.1"
  }
 },
 "nbformat": 4,
 "nbformat_minor": 4
}
